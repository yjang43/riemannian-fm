{
 "cells": [
  {
   "cell_type": "code",
   "execution_count": 5,
   "metadata": {},
   "outputs": [],
   "source": [
    "import numpy as np\n",
    "import geopandas\n",
    "import torch\n",
    "import matplotlib.pyplot as plt\n",
    "from shapely.geometry import Point, LineString\n",
    "\n",
    "from manifm.eval_utils import load_model\n",
    "from manifm.datasets import get_loaders, get_manifold\n",
    "from manifm.model_pl import ManifoldAELitModule\n",
    "from manifm.utils import lonlat_from_cartesian"
   ]
  },
  {
   "cell_type": "code",
   "execution_count": 2,
   "metadata": {},
   "outputs": [],
   "source": [
    "device = \"cpu\"\n",
    "seed = 42\n",
    "flow_ckpt_path = \"/home/yjang43/workspace/riemannian-fm/outputs/multiruns/fire/fm/2024.11.19/231101/1/checkpoints/last.ckpt\"\n",
    "reflow_ckpt_path = \"/home/yjang43/workspace/riemannian-fm/outputs/runs/reflow_fire/fm/2024.11.21/223550/checkpoints/last.ckpt\""
   ]
  },
  {
   "cell_type": "code",
   "execution_count": null,
   "metadata": {},
   "outputs": [],
   "source": [
    "def sample_path(ckpt_path, num_steps_list=[1000, 100, 10, 1]):\n",
    "    cfg, pl_model = load_model(ckpt_path)\n",
    "    pl_model.train(mode=False)\n",
    "    pl_model.to(device)\n",
    "    manifold, dim = get_manifold(cfg)\n",
    "\n",
    "    torch.manual_seed(seed)\n",
    "    x0 = manifold.random_base(1, dim)\n",
    "\n",
    "    x_t_dict = {}\n",
    "    for num_steps in num_steps_list:\n",
    "        x_t = pl_model.sample_all(None, device, x0.to(device), num_steps=num_steps).cpu()\n",
    "        x_t_dict[num_steps] = x_t\n",
    "\n",
    "    return x_t_dict\n",
    "\n",
    "flow_x_t_dict = sample_path(flow_ckpt_path)\n",
    "reflow_x_t_dict = sample_path(reflow_ckpt_path)\n"
   ]
  },
  {
   "cell_type": "code",
   "execution_count": 40,
   "metadata": {},
   "outputs": [],
   "source": [
    "\n",
    "def plot_earth2d(ax, samples, color=\"red\", zoom=False):\n",
    "\n",
    "    # set x axis and y axis label\n",
    "    ax.set_xlabel(\"Longitude\")\n",
    "    ax.set_ylabel(\"Latitude\")\n",
    "\n",
    "    # Plot model samples\n",
    "    geometry = [Point(lonlat_from_cartesian(x) / np.pi * 180) for x in samples]\n",
    "    pts = geopandas.GeoDataFrame(geometry=geometry)\n",
    "    pts[-1:].plot(ax=ax, color=\"black\", markersize=3, alpha=0.7, label=\"_nolegend_\")\n",
    "    pts[:1].plot(ax=ax, color=\"black\", markersize=3, alpha=0.7, label=\"_nolegend_\")\n",
    "    if zoom:\n",
    "        # set max of x and y to be lim\n",
    "        minx, miny, maxx, maxy = pts.total_bounds\n",
    "        if ax.get_xlim()[1] - ax.get_xlim()[0] < 150:\n",
    "            minx, maxx = min(minx, ax.get_xlim()[0]), max(maxx, ax.get_xlim()[1])\n",
    "            miny, maxy = min(miny, ax.get_ylim()[0]), max(maxy, ax.get_ylim()[1])\n",
    "        ax.set_xlim(minx-5, maxx+5)\n",
    "        ax.set_ylim(miny-5, maxy+5)\n",
    "    \n",
    "    # Create LineStrings between consecutive points\n",
    "    lines = [\n",
    "        LineString([geometry[i], geometry[i + 1]]) for i in range(len(geometry) - 1)\n",
    "    ]\n",
    "    line_gdf = geopandas.GeoDataFrame(geometry=lines)\n",
    "\n",
    "    # Plot lines connecting points\n",
    "    line_gdf.plot(ax=ax, color=color, linewidth=1, alpha=0.5)\n",
    "    return ax"
   ]
  },
  {
   "cell_type": "code",
   "execution_count": null,
   "metadata": {},
   "outputs": [],
   "source": [
    "world = geopandas.read_file(geopandas.datasets.get_path(\"naturalearth_lowres\"))\n",
    "ax = world.plot(figsize=(6, 6), antialiased=False, color=\"grey\")\n",
    "\n",
    "ax.set_xlim(0, 40)\n",
    "ax.set_ylim(0, 40)\n",
    "plot_earth2d(ax, flow_x_t_dict[1000][::100], \"red\", zoom=True)\n",
    "plot_earth2d(ax, flow_x_t_dict[100][::10], \"blue\", zoom=True)\n",
    "plot_earth2d(ax, flow_x_t_dict[10], \"green\", zoom=True)\n",
    "plot_earth2d(ax, flow_x_t_dict[1], \"orange\", zoom=True)\n",
    "\n",
    "ax.set_title(\"RieFlow Trajectories\")\n",
    "ax.legend([\"1000 NFE\", \"100 NFE\", \"10 NFE\", \"1 NFE\"])\n",
    "\n",
    "fig = ax.get_figure()\n",
    "fig.savefig(\"figs/rieflow_trajectory.png\")"
   ]
  },
  {
   "cell_type": "code",
   "execution_count": null,
   "metadata": {},
   "outputs": [],
   "source": [
    "world = geopandas.read_file(geopandas.datasets.get_path(\"naturalearth_lowres\"))\n",
    "ax = world.plot(figsize=(6, 6), antialiased=False, color=\"grey\")\n",
    "\n",
    "ax.set_xlim(0, 40)\n",
    "ax.set_ylim(0, 40)\n",
    "plot_earth2d(ax, reflow_x_t_dict[1000][::100], \"red\", zoom=True)\n",
    "plot_earth2d(ax, reflow_x_t_dict[100][::10], \"blue\", zoom=True)\n",
    "plot_earth2d(ax, reflow_x_t_dict[10], \"green\", zoom=True)\n",
    "plot_earth2d(ax, reflow_x_t_dict[1], \"orange\", zoom=True)\n",
    "\n",
    "ax.set_title(\"RieFlow Reflow Trajectories\")\n",
    "ax.legend([\"1000 NFE\", \"100 NFE\", \"10 NFE\", \"1 NFE\"])\n",
    "\n",
    "fig = ax.get_figure()\n",
    "fig.savefig(\"figs/rieflow_reflow_trajectory.png\")"
   ]
  }
 ],
 "metadata": {
  "kernelspec": {
   "display_name": "lrf",
   "language": "python",
   "name": "python3"
  },
  "language_info": {
   "codemirror_mode": {
    "name": "ipython",
    "version": 3
   },
   "file_extension": ".py",
   "mimetype": "text/x-python",
   "name": "python",
   "nbconvert_exporter": "python",
   "pygments_lexer": "ipython3",
   "version": "3.9.20"
  }
 },
 "nbformat": 4,
 "nbformat_minor": 2
}
