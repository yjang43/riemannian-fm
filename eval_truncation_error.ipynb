{
 "cells": [
  {
   "cell_type": "code",
   "execution_count": 1,
   "metadata": {},
   "outputs": [
    {
     "name": "stderr",
     "output_type": "stream",
     "text": [
      "/tmp/ipykernel_3965314/2034297807.py:6: FutureWarning: The geopandas.dataset module is deprecated and will be removed in GeoPandas 1.0. You can get the original 'naturalearth_lowres' data from https://www.naturalearthdata.com/downloads/110m-cultural-vectors/.\n",
      "  world = geopandas.read_file(geopandas.datasets.get_path(\"naturalearth_lowres\"))\n"
     ]
    }
   ],
   "source": []
  },
  {
   "cell_type": "code",
   "execution_count": 3,
   "metadata": {},
   "outputs": [],
   "source": [
    "\n",
    "import torch\n",
    "from manifm.eval_utils import load_model\n",
    "from manifm.datasets import get_loaders, get_manifold\n",
    "from manifm.model_pl import ManifoldAELitModule\n",
    "from manifm.manifolds import Sphere"
   ]
  },
  {
   "cell_type": "code",
   "execution_count": 4,
   "metadata": {},
   "outputs": [],
   "source": [
    "\n",
    "\n",
    "device = \"cpu\"\n",
    "flow_ckpt_path = \"/home/yjang43/workspace/riemannian-fm/outputs/multiruns/fire/fm/2024.11.19/231101/1/checkpoints/last.ckpt\" # flow\n",
    "reflow_ckpt_path = \"/home/yjang43/workspace/riemannian-fm/outputs/runs/reflow_fire/fm/2024.11.21/223550/checkpoints/last.ckpt\" # reflow\n",
    "\n",
    "manifold = Sphere()\n",
    "manifold.dist(torch.randn(3,3), torch.randn(3,3))"
   ]
  },
  {
   "cell_type": "code",
   "execution_count": 2,
   "metadata": {},
   "outputs": [],
   "source": [
    "def sample_with_different_num_steps(ckpt_path, num_steps_list=[1000, 100, 10, 1]):\n",
    "    cfg, pl_model = load_model(ckpt_path)\n",
    "    manifold, dim = get_manifold(cfg)\n",
    "    pl_model.to(device)\n",
    "    pl_model.train(mode=False)\n",
    "\n",
    "    torch.manual_seed(0)\n",
    "    x0 = manifold.random_base(1024, dim).reshape(1024, dim)\n",
    "    x1_dict = {}\n",
    "    for num_steps in num_steps_list:\n",
    "        x_t = pl_model.sample_all(None, device, x0.to(device), num_steps=num_steps).cpu()\n",
    "        x1 = x_t[-1]\n",
    "        x1_dict[num_steps] = x1\n",
    "    return x1_dict"
   ]
  },
  {
   "cell_type": "code",
   "execution_count": 5,
   "metadata": {},
   "outputs": [
    {
     "name": "stderr",
     "output_type": "stream",
     "text": [
      "/home/yjang43/workspace/riemannian-fm/manifm/eval_utils.py:39: FutureWarning: You are using `torch.load` with `weights_only=False` (the current default value), which uses the default pickle module implicitly. It is possible to construct malicious pickle data which will execute arbitrary code during unpickling (See https://github.com/pytorch/pytorch/blob/main/SECURITY.md#untrusted-models for more details). In a future release, the default value for `weights_only` will be flipped to `True`. This limits the functions that could be executed during unpickling. Arbitrary objects will no longer be allowed to be loaded via this mode unless they are explicitly allowlisted by the user via `torch.serialization.add_safe_globals`. We recommend you start setting `weights_only=True` for any use case where you don't have full control of the loaded file. Please open an issue on GitHub for any issues related to this experimental feature.\n",
      "  chkpnt = torch.load(checkpoint, map_location=\"cpu\")\n",
      "/home/yjang43/workspace/riemannian-fm/manifm/model_pl.py:295: FutureWarning: You are using `torch.load` with `weights_only=False` (the current default value), which uses the default pickle module implicitly. It is possible to construct malicious pickle data which will execute arbitrary code during unpickling (See https://github.com/pytorch/pytorch/blob/main/SECURITY.md#untrusted-models for more details). In a future release, the default value for `weights_only` will be flipped to `True`. This limits the functions that could be executed during unpickling. Arbitrary objects will no longer be allowed to be loaded via this mode unless they are explicitly allowlisted by the user via `torch.serialization.add_safe_globals`. We recommend you start setting `weights_only=True` for any use case where you don't have full control of the loaded file. Please open an issue on GitHub for any issues related to this experimental feature.\n",
      "  ckpt = torch.load(ckpt_path, map_location=\"cpu\")\n"
     ]
    }
   ],
   "source": [
    "\n",
    "flow_x1_dict = sample_with_different_num_steps(flow_ckpt_path)\n",
    "reflow_x1_dict = sample_with_different_num_steps(reflow_ckpt_path)"
   ]
  },
  {
   "cell_type": "code",
   "execution_count": 21,
   "metadata": {},
   "outputs": [
    {
     "name": "stdout",
     "output_type": "stream",
     "text": [
      "Truncation Error for RieFlow 1000 NFE\n",
      "{100: '0.0632', 10: '0.0892'}\n",
      "Truncation Error for RieFlow 100 NFE\n",
      "{10: '0.0630', 1: '1.0999'}\n",
      "Truncation Error for RieFlow Reflow 1000 NFE\n",
      "{100: '0.0364', 10: '0.0409'}\n",
      "Truncation Error for RieFlow Reflow 100 NFE\n",
      "{10: '0.0164', 1: '0.0270'}\n"
     ]
    }
   ],
   "source": [
    "def compute_truncation_error(x1_dict, manifold, gt_key, pred_keys):\n",
    "    truncation_error = {}\n",
    "    for k in pred_keys:\n",
    "        truncation_error[k] = f\"{manifold.dist(x1_dict[gt_key], x1_dict[k]).mean().item():.4f}\"\n",
    "    return truncation_error\n",
    "\n",
    "\n",
    "print(\"Truncation Error for RieFlow 1000 NFE\")\n",
    "print(compute_truncation_error(flow_x1_dict, manifold, 1000, [100, 10]))\n",
    "print(\"Truncation Error for RieFlow 100 NFE\")\n",
    "print(compute_truncation_error(flow_x1_dict, manifold, 100, [10, 1]))\n",
    "print(\"Truncation Error for RieFlow Reflow 1000 NFE\")\n",
    "print(compute_truncation_error(reflow_x1_dict, manifold, 1000, [100, 10]))\n",
    "print(\"Truncation Error for RieFlow Reflow 100 NFE\")\n",
    "print(compute_truncation_error(reflow_x1_dict, manifold, 100, [10, 1]))"
   ]
  },
  {
   "cell_type": "code",
   "execution_count": 19,
   "metadata": {},
   "outputs": [
    {
     "name": "stderr",
     "output_type": "stream",
     "text": [
      "/tmp/ipykernel_671063/1178050509.py:6: FutureWarning: The geopandas.dataset module is deprecated and will be removed in GeoPandas 1.0. You can get the original 'naturalearth_lowres' data from https://www.naturalearthdata.com/downloads/110m-cultural-vectors/.\n",
      "  world = geopandas.read_file(geopandas.datasets.get_path(\"naturalearth_lowres\"))\n"
     ]
    },
    {
     "data": {
      "text/plain": [
       "<matplotlib.legend.Legend at 0x7feaffe6cd30>"
      ]
     },
     "execution_count": 19,
     "metadata": {},
     "output_type": "execute_result"
    },
    {
     "data": {
      "image/png": "[encoded data removed]",
      "text/plain": [
       "<Figure size 600x600 with 1 Axes>"
      ]
     },
     "metadata": {},
     "output_type": "display_data"
    }
   ],
   "source": [
    "# import numpy as np\n",
    "# import geopandas\n",
    "# from shapely.geometry import Point, LineString\n",
    "# from manifm.utils import lonlat_from_cartesian\n",
    "\n",
    "# world = geopandas.read_file(geopandas.datasets.get_path(\"naturalearth_lowres\"))\n",
    "\n",
    "# def plot_earth2d(ax, samples, color=\"#d73027\", zoom=False, labels=[\"1000\", \"100\", \"10\", \"1\"]):\n",
    "#     assert len(samples) == len(labels)\n",
    "\n",
    "#     # Plot model samples\n",
    "#     geometry = [Point(lonlat_from_cartesian(x) / np.pi * 180) for x in samples]\n",
    "#     pts = geopandas.GeoDataFrame(geometry=geometry)\n",
    "#     pts[0:1].plot(ax=ax, color=color, marker=\"o\", markersize=10, alpha=0.5)\n",
    "#     pts[1:2].plot(ax=ax, color=color, marker=\"^\", markersize=10, alpha=0.5)\n",
    "#     pts[2:3].plot(ax=ax, color=color, marker=\"s\", markersize=10, alpha=0.5)\n",
    "#     pts[3:4].plot(ax=ax, color=color, marker=\"*\", markersize=10, alpha=0.5)\n",
    "#     if zoom:\n",
    "#         # set max of x and y to be lim\n",
    "#         minx, miny, maxx, maxy = pts.total_bounds\n",
    "#         if ax.get_xlim()[1] - ax.get_xlim()[0] < 150:\n",
    "#             minx, maxx = min(minx, ax.get_xlim()[0]), max(maxx, ax.get_xlim()[1])\n",
    "#             miny, maxy = min(miny, ax.get_ylim()[0]), max(maxy, ax.get_ylim()[1])\n",
    "#         ax.set_xlim(minx-5, maxx+5)\n",
    "#         ax.set_ylim(miny-5, maxy+5)\n",
    "#     return ax\n",
    "\n",
    "# ax = world.plot(figsize=(6, 6), antialiased=False, color=\"grey\")\n",
    "# idx = 0\n",
    "# flow_samples = []\n",
    "# for k in flow_x1_dict:\n",
    "#     flow_samples.append(flow_x1_dict[k][idx])\n",
    "# ax = plot_earth2d(ax, flow_samples, color=\"red\", zoom=True)\n",
    "\n",
    "# reflow_samples = []\n",
    "# for k in reflow_x1_dict:\n",
    "#     reflow_samples.append(reflow_x1_dict[k][idx])\n",
    "# ax = plot_earth2d(ax, reflow_samples, color=\"blue\", zoom=True)\n",
    "\n",
    "# ax.legend([\"Flow(1000 NFE)\", \"Flow(100 NFE)\", \"Flow(10 NFE)\", \"Flow(1 NFE)\", \"Reflow(1000 NFE)\", \"Reflow(100 NFE)\", \"Reflow(10 NFE)\", \"Reflow(1 NFE)\"])"
   ]
  },
  {
   "cell_type": "code",
   "execution_count": null,
   "metadata": {},
   "outputs": [],
   "source": []
  }
 ],
 "metadata": {
  "kernelspec": {
   "display_name": "lrf",
   "language": "python",
   "name": "python3"
  },
  "language_info": {
   "codemirror_mode": {
    "name": "ipython",
    "version": 3
   },
   "file_extension": ".py",
   "mimetype": "text/x-python",
   "name": "python",
   "nbconvert_exporter": "python",
   "pygments_lexer": "ipython3",
   "version": "3.9.20"
  }
 },
 "nbformat": 4,
 "nbformat_minor": 2
}
